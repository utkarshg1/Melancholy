{
 "cells": [
  {
   "cell_type": "code",
   "execution_count": 15,
   "id": "c22fc63a",
   "metadata": {},
   "outputs": [
    {
     "name": "stdout",
     "output_type": "stream",
     "text": [
      "Using preset Violin LP3 for violin\n",
      "Using preset Piano Merlin for piano\n"
     ]
    }
   ],
   "source": [
    "from scamp import *\n",
    "import random\n",
    "s = Session()\n",
    "s.tempo = 60\n",
    "s.fast_forward_in_beats(100)\n",
    "violin = s.new_part('violin')\n",
    "piano2= s.new_part('piano')\n",
    "#cello = s.new_part('cello')\n",
    "scale = -2"
   ]
  },
  {
   "cell_type": "code",
   "execution_count": 16,
   "id": "d10cbba2",
   "metadata": {},
   "outputs": [],
   "source": [
    "import numpy as np\n",
    "bass_notes = [45,48,52,57,\n",
    "             43,47,50,55,\n",
    "             41,45,48,53,\n",
    "             40,44,47,52]*4\n",
    "bass_notes = np.asarray(bass_notes)\n",
    "bass_notes = bass_notes + scale"
   ]
  },
  {
   "cell_type": "code",
   "execution_count": 17,
   "id": "25727901",
   "metadata": {},
   "outputs": [],
   "source": [
    "def bass():\n",
    "    for bass_note in bass_notes:\n",
    "        piano2.play_note(bass_note,0.5,1.0)\n",
    "    c1 = np.asarray([45,52,57,60,64,69])+scale\n",
    "    c2 = np.asarray([43,50,55,59,62,67])+scale\n",
    "    c3 = np.asarray([41,48,53,57,60,65])+scale\n",
    "    c4 = np.asarray([40,47,52,56,59,64])+scale\n",
    "    piano2.play_chord(c1,0.5,1.0,blocking=False)\n",
    "    piano2.play_chord(c2,0.5,1.0,blocking=False)\n",
    "    piano2.play_chord(c3,0.5,1.0,blocking=False)\n",
    "    piano2.play_chord(c4,0.5,1.0,blocking=False)"
   ]
  },
  {
   "cell_type": "code",
   "execution_count": 18,
   "id": "b8b1441a",
   "metadata": {},
   "outputs": [],
   "source": [
    "scale_a = [69,71,72,74,76,77,80,81]\n",
    "scale_d = scale_a[::-1]\n",
    "scale_a = list(np.asarray(scale_a)+scale)\n",
    "scale_d = list(np.asarray(scale_d)+scale)\n",
    "scale_an = scale_a + 2*[None]"
   ]
  },
  {
   "cell_type": "code",
   "execution_count": 19,
   "id": "7bce5b8f",
   "metadata": {},
   "outputs": [
    {
     "name": "stdout",
     "output_type": "stream",
     "text": [
      "[[78, 74, 72, 67], [67, 70, 75], [69, 70, 72], [78, 67, None, 72], [67, 69, 70, 72, 74, 75, 78, 79], [79, 78, 75, 74, 72, 70, 69, 67], [67], [None], [70, 67, 74, 79], [69, 74, 75], [75, 78, 72], [74, 70, 78, 79], [67, 69, 70, 72, 74, 75, 78, 79], [79, 78, 75, 74, 72, 70, 69, 67], [67], [None], [79, 70, 78, 75], [67, 72, 75], [79, 70, 69], [70, 78, 67, 69], [67, 69, 70, 72, 74, 75, 78, 79], [79, 78, 75, 74, 72, 70, 69, 67], [67], [None], [75, 72, 70, 69], [72, 70, 69], [70, 67, 69], [79, 75, 78, 69], [67, 69, 70, 72, 74, 75, 78, 79], [79, 78, 75, 74, 72, 70, 69, 67], [67], [None], [75, 69, 78, 79], [69, 74, 70], [79, 72, 78], [None, 67, 79, 70], [67, 69, 70, 72, 74, 75, 78, 79], [79, 78, 75, 74, 72, 70, 69, 67], [67], [None], [75, 78, 67, 70], [78, 67, 75], [69, 70, 72], [69, 67, None, 70], [67, 69, 70, 72, 74, 75, 78, 79], [79, 78, 75, 74, 72, 70, 69, 67], [67], [None], [79, 74, 72, 78], [75, 72, 79], [72, 69, 79], [75, None, 67, 72], [67, 69, 70, 72, 74, 75, 78, 79], [79, 78, 75, 74, 72, 70, 69, 67], [67], [None], [72, 74, 69, 78], [67, 78, 69], [74, 79, 69], [79, 67, 69, 74], [67, 69, 70, 72, 74, 75, 78, 79], [79, 78, 75, 74, 72, 70, 69, 67], [67], [None], [67, 72, 69, 70], [78, 69, 70], [69, 75, 78], [None, 67, 75, 70], [67, 69, 70, 72, 74, 75, 78, 79], [79, 78, 75, 74, 72, 70, 69, 67], [67], [None], [70, 79, 78, 74], [70, 79, 67], [74, 75, 70], [72, 79, 70, 69], [67, 69, 70, 72, 74, 75, 78, 79], [79, 78, 75, 74, 72, 70, 69, 67], [67], [None]]\n"
     ]
    }
   ],
   "source": [
    "mel_pat = []\n",
    "\n",
    "for i in range(10):\n",
    "    mel_pat.append(random.sample(scale_a,4))\n",
    "    mel_pat.append(random.sample(scale_a,3))\n",
    "    mel_pat.append(random.sample(scale_d,3))\n",
    "    mel_pat.append(random.sample(scale_an,4))\n",
    "    mel_pat.append(scale_a)\n",
    "    mel_pat.append(scale_d)\n",
    "    mel_pat.append([69+scale])\n",
    "    mel_pat.append([None])\n",
    "print(mel_pat)"
   ]
  },
  {
   "cell_type": "code",
   "execution_count": 20,
   "id": "d5a25885",
   "metadata": {},
   "outputs": [],
   "source": [
    "def mel():\n",
    "    for bass_note in bass_notes:\n",
    "        pattern = random.choice(mel_pat)\n",
    "        note_length = 1/len(pattern)\n",
    "        for mel_note in pattern:\n",
    "            if mel_note is None:\n",
    "                wait(note_length)\n",
    "            else:\n",
    "                violin.play_note(mel_note,1.0,note_length)\n",
    "    violin.play_note(69+scale,0.5,1.0)\n",
    "    violin.play_note(67+scale,0.5,1.0)\n",
    "    violin.play_note(65+scale,0.5,1.0)\n",
    "    violin.play_note(64+scale,0.5,1.0)"
   ]
  },
  {
   "cell_type": "code",
   "execution_count": 21,
   "id": "e268039a",
   "metadata": {},
   "outputs": [],
   "source": [
    "s.start_transcribing()\n",
    "s.fork(bass)\n",
    "s.fork(mel)\n",
    "s.wait_for_children_to_finish()\n",
    "s.stop_transcribing().to_score(title=\"Random Music in A Harmonic Minor\",composer=\"Utkarsh Gaikwad\").show_xml()"
   ]
  }
 ],
 "metadata": {
  "kernelspec": {
   "display_name": "Python 3 (ipykernel)",
   "language": "python",
   "name": "python3"
  },
  "language_info": {
   "codemirror_mode": {
    "name": "ipython",
    "version": 3
   },
   "file_extension": ".py",
   "mimetype": "text/x-python",
   "name": "python",
   "nbconvert_exporter": "python",
   "pygments_lexer": "ipython3",
   "version": "3.9.7"
  }
 },
 "nbformat": 4,
 "nbformat_minor": 5
}
